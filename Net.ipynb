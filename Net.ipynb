{
 "cells": [
  {
   "cell_type": "code",
   "execution_count": 1,
   "metadata": {},
   "outputs": [
    {
     "name": "stdout",
     "output_type": "stream",
     "text": [
      "tensor(1.8449, grad_fn=<DivBackward0>)\n",
      "tensor([[ 58.2874,  70.3306],\n",
      "        [ 83.2848, 100.6570],\n",
      "        [118.4022, 132.9541],\n",
      "        [ 25.2303,  37.0124],\n",
      "        [100.9365, 119.1421]], grad_fn=<AddBackward0>)\n",
      "tensor([[ 56.,  70.],\n",
      "        [ 81., 101.],\n",
      "        [119., 133.],\n",
      "        [ 27.,  37.],\n",
      "        [103., 119.]])\n"
     ]
    }
   ],
   "source": [
    "import torch\n",
    "import numpy \n",
    "\n",
    "# temp, rainfall, humidity \n",
    "inputs = torch.tensor([[73, 67, 43], \n",
    "                        [91, 88, 64], \n",
    "                        [87, 134, 58], \n",
    "                        [102, 43, 37], \n",
    "                        [69, 96, 70]], \n",
    "    dtype = torch.float32)\n",
    "\n",
    "# apples, oranges, these are target values for model to predict\n",
    "targets = torch.tensor([[56, 70], \n",
    "                        [81, 101], \n",
    "                        [119, 133], \n",
    "                        [27, 37], \n",
    "                        [103, 119]], \n",
    "    dtype = torch.float32)\n",
    "\n",
    "#start weights as a matrix of random values\n",
    "w = torch.randn(2, 3, requires_grad = True)\n",
    "#start bias as a vector of random values\n",
    "b = torch.randn(2, requires_grad = True)\n",
    "\n",
    "#multiply input matrix by weight matrix, and then add bias vector\n",
    "#5*3 matrix * 3*2 matrix = 5*2 matrix + 5*2 matrix (vector)  = 5*2 matrix\n",
    "\n",
    "def model (x): # @ is matrix multiplication in torch, .t() transposes matrix, flips rows and columns i think\n",
    "    return x @ w.t() + b  #because b = a vector, it BROADCASTS it into a vector\n",
    "\n",
    "preds = model(inputs)\n",
    "\n",
    "def mse(t1, t2):\n",
    "    diff = t1 - t2\n",
    "    return torch.sum(diff * diff) / diff.numel()\n",
    "\n",
    "loss = mse(preds, targets)\n",
    "#off by an average of the sqrt of loss (that is our loss)\n",
    "\n",
    "#compute gradients calculated gradients are then stored in . grad of every leaf node\n",
    "loss.backward()\n",
    "\n",
    "#original weights\n",
    "\n",
    "#positive slope\n",
    "#if gradient element is positive, slightly increasing weight will increase loss, slightly decreasing weight will decrease loss\n",
    "\n",
    "#negative slope\n",
    "#if gradient element is negative, slightly increasing weight will decrease loss, slightly increasing weight will increase loss\n",
    "\n",
    "#so move in the opposite direction of the gradient if gradient is positive, decrease element value, if gradient negative, increase\n",
    "#goal is to decrease loss (gradient descent)\n",
    "\n",
    "#reset weight derivatives and bias derivatives\n",
    "\n",
    "w.grad.zero_()\n",
    "b.grad.zero_()\n",
    "\n",
    "#now to adjust values, subtract small proportion of gradient\n",
    "\n",
    "for i in range(20000): #training loop for 20000 epochs\n",
    "    preds = model(inputs) #get predicitions\n",
    "    loss = mse(preds, targets) #get loss \n",
    "    loss.backward() #get gradients\n",
    "    with torch.no_grad(): \n",
    "        w -= w.grad * 1e-5\n",
    "        b -= b.grad * 1e-5 #hyper parameter that you can adjust also called learning rate\n",
    "        w.grad.zero_()\n",
    "        b.grad.zero_() #reset gradients back to 0 (because they werent 0 when you did loss.backward)\n",
    "\n",
    "print(loss)\n",
    "print(preds)\n",
    "print(targets)"
   ]
  }
 ],
 "metadata": {
  "interpreter": {
   "hash": "b80337e9ff11ba37cab77719b871af4edf9d0e88a0637ed4f12d2d4cc4c3bed7"
  },
  "kernelspec": {
   "display_name": "Python 3.8.13 ('py38_torch')",
   "language": "python",
   "name": "python3"
  },
  "language_info": {
   "codemirror_mode": {
    "name": "ipython",
    "version": 3
   },
   "file_extension": ".py",
   "mimetype": "text/x-python",
   "name": "python",
   "nbconvert_exporter": "python",
   "pygments_lexer": "ipython3",
   "version": "3.8.13"
  },
  "orig_nbformat": 4
 },
 "nbformat": 4,
 "nbformat_minor": 2
}
